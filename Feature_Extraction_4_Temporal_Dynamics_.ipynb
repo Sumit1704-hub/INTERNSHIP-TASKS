{
  "nbformat": 4,
  "nbformat_minor": 0,
  "metadata": {
    "colab": {
      "name": "Feature Extraction-4. Temporal Dynamics .ipynb",
      "provenance": [],
      "collapsed_sections": []
    },
    "kernelspec": {
      "name": "python3",
      "display_name": "Python 3"
    }
  },
  "cells": [
    {
      "cell_type": "code",
      "metadata": {
        "id": "aSr2qy5dimNg"
      },
      "source": [
        "import pandas as pd\n",
        "import numpy as np \n",
        "from datetime import datetime"
      ],
      "execution_count": 1,
      "outputs": []
    },
    {
      "cell_type": "code",
      "metadata": {
        "id": "fzjUYHm_ehOq"
      },
      "source": [
        "course_information = pd.read_csv(\"/content/course_information.csv\")\n",
        "course_posts = pd.read_csv(\"/content/course_posts.csv\")\n",
        "course_threads = pd.read_csv(\"/content/course_threads.csv\")"
      ],
      "execution_count": 2,
      "outputs": []
    },
    {
      "cell_type": "code",
      "metadata": {
        "id": "AVQ9i6XMejXO",
        "outputId": "c4736716-8872-4d66-d923-510939150cb0",
        "colab": {
          "base_uri": "https://localhost:8080/",
          "height": 34
        }
      },
      "source": [
        "course_information.shape, course_posts.shape, course_threads.shape"
      ],
      "execution_count": 3,
      "outputs": [
        {
          "output_type": "execute_result",
          "data": {
            "text/plain": [
              "((60, 11), (739074, 12), (99629, 11))"
            ]
          },
          "metadata": {
            "tags": []
          },
          "execution_count": 3
        }
      ]
    },
    {
      "cell_type": "code",
      "metadata": {
        "id": "ZefLqlTAelPY",
        "outputId": "213c47ad-1048-401a-f166-8b339c94ee79",
        "colab": {
          "base_uri": "https://localhost:8080/",
          "height": 204
        }
      },
      "source": [
        "#Generating a column where post_id = 0\n",
        "\n",
        "course_posts['is_post'] = course_posts.parent_id==0\n",
        "\n",
        "#using groupby.count function to group the variables \n",
        "\n",
        "tmp = course_posts.groupby(['course_id', 'thread_id', 'is_post']).count()[['post_id']].reset_index()\n",
        "\n",
        "# renaming the varibale 'post_id as count\n",
        "\n",
        "tmp['count'] = tmp['post_id']\n",
        "tmp.drop('post_id', axis=1, inplace=True)\n",
        "tmp.head()"
      ],
      "execution_count": 4,
      "outputs": [
        {
          "output_type": "execute_result",
          "data": {
            "text/html": [
              "<div>\n",
              "<style scoped>\n",
              "    .dataframe tbody tr th:only-of-type {\n",
              "        vertical-align: middle;\n",
              "    }\n",
              "\n",
              "    .dataframe tbody tr th {\n",
              "        vertical-align: top;\n",
              "    }\n",
              "\n",
              "    .dataframe thead th {\n",
              "        text-align: right;\n",
              "    }\n",
              "</style>\n",
              "<table border=\"1\" class=\"dataframe\">\n",
              "  <thead>\n",
              "    <tr style=\"text-align: right;\">\n",
              "      <th></th>\n",
              "      <th>course_id</th>\n",
              "      <th>thread_id</th>\n",
              "      <th>is_post</th>\n",
              "      <th>count</th>\n",
              "    </tr>\n",
              "  </thead>\n",
              "  <tbody>\n",
              "    <tr>\n",
              "      <th>0</th>\n",
              "      <td>analysenumerique-001</td>\n",
              "      <td>2</td>\n",
              "      <td>False</td>\n",
              "      <td>2</td>\n",
              "    </tr>\n",
              "    <tr>\n",
              "      <th>1</th>\n",
              "      <td>analysenumerique-001</td>\n",
              "      <td>2</td>\n",
              "      <td>True</td>\n",
              "      <td>9</td>\n",
              "    </tr>\n",
              "    <tr>\n",
              "      <th>2</th>\n",
              "      <td>analysenumerique-001</td>\n",
              "      <td>3</td>\n",
              "      <td>False</td>\n",
              "      <td>3</td>\n",
              "    </tr>\n",
              "    <tr>\n",
              "      <th>3</th>\n",
              "      <td>analysenumerique-001</td>\n",
              "      <td>3</td>\n",
              "      <td>True</td>\n",
              "      <td>16</td>\n",
              "    </tr>\n",
              "    <tr>\n",
              "      <th>4</th>\n",
              "      <td>analysenumerique-001</td>\n",
              "      <td>4</td>\n",
              "      <td>True</td>\n",
              "      <td>2</td>\n",
              "    </tr>\n",
              "  </tbody>\n",
              "</table>\n",
              "</div>"
            ],
            "text/plain": [
              "              course_id  thread_id  is_post  count\n",
              "0  analysenumerique-001          2    False      2\n",
              "1  analysenumerique-001          2     True      9\n",
              "2  analysenumerique-001          3    False      3\n",
              "3  analysenumerique-001          3     True     16\n",
              "4  analysenumerique-001          4     True      2"
            ]
          },
          "metadata": {
            "tags": []
          },
          "execution_count": 4
        }
      ]
    },
    {
      "cell_type": "code",
      "metadata": {
        "id": "LjKUUY5eezEV",
        "outputId": "b254f37e-4fbc-4a1f-846c-684fb36de4cc",
        "colab": {
          "base_uri": "https://localhost:8080/",
          "height": 204
        }
      },
      "source": [
        "#generating a new column with the name num_posts and assigning it value as 0\n",
        "\n",
        "tmp['num_posts'] = 0\n",
        "\n",
        "#checking if it's a post if yes replacing it with the value from count\n",
        "\n",
        "tmp.loc[tmp.is_post == True, 'num_posts'] = tmp['count']\n",
        "tmp.head()"
      ],
      "execution_count": 5,
      "outputs": [
        {
          "output_type": "execute_result",
          "data": {
            "text/html": [
              "<div>\n",
              "<style scoped>\n",
              "    .dataframe tbody tr th:only-of-type {\n",
              "        vertical-align: middle;\n",
              "    }\n",
              "\n",
              "    .dataframe tbody tr th {\n",
              "        vertical-align: top;\n",
              "    }\n",
              "\n",
              "    .dataframe thead th {\n",
              "        text-align: right;\n",
              "    }\n",
              "</style>\n",
              "<table border=\"1\" class=\"dataframe\">\n",
              "  <thead>\n",
              "    <tr style=\"text-align: right;\">\n",
              "      <th></th>\n",
              "      <th>course_id</th>\n",
              "      <th>thread_id</th>\n",
              "      <th>is_post</th>\n",
              "      <th>count</th>\n",
              "      <th>num_posts</th>\n",
              "    </tr>\n",
              "  </thead>\n",
              "  <tbody>\n",
              "    <tr>\n",
              "      <th>0</th>\n",
              "      <td>analysenumerique-001</td>\n",
              "      <td>2</td>\n",
              "      <td>False</td>\n",
              "      <td>2</td>\n",
              "      <td>0</td>\n",
              "    </tr>\n",
              "    <tr>\n",
              "      <th>1</th>\n",
              "      <td>analysenumerique-001</td>\n",
              "      <td>2</td>\n",
              "      <td>True</td>\n",
              "      <td>9</td>\n",
              "      <td>9</td>\n",
              "    </tr>\n",
              "    <tr>\n",
              "      <th>2</th>\n",
              "      <td>analysenumerique-001</td>\n",
              "      <td>3</td>\n",
              "      <td>False</td>\n",
              "      <td>3</td>\n",
              "      <td>0</td>\n",
              "    </tr>\n",
              "    <tr>\n",
              "      <th>3</th>\n",
              "      <td>analysenumerique-001</td>\n",
              "      <td>3</td>\n",
              "      <td>True</td>\n",
              "      <td>16</td>\n",
              "      <td>16</td>\n",
              "    </tr>\n",
              "    <tr>\n",
              "      <th>4</th>\n",
              "      <td>analysenumerique-001</td>\n",
              "      <td>4</td>\n",
              "      <td>True</td>\n",
              "      <td>2</td>\n",
              "      <td>2</td>\n",
              "    </tr>\n",
              "  </tbody>\n",
              "</table>\n",
              "</div>"
            ],
            "text/plain": [
              "              course_id  thread_id  is_post  count  num_posts\n",
              "0  analysenumerique-001          2    False      2          0\n",
              "1  analysenumerique-001          2     True      9          9\n",
              "2  analysenumerique-001          3    False      3          0\n",
              "3  analysenumerique-001          3     True     16         16\n",
              "4  analysenumerique-001          4     True      2          2"
            ]
          },
          "metadata": {
            "tags": []
          },
          "execution_count": 5
        }
      ]
    },
    {
      "cell_type": "code",
      "metadata": {
        "id": "mZd-uLxUe3up",
        "outputId": "26f8537f-5e3d-4736-cbdf-0848dc8fc857",
        "colab": {
          "base_uri": "https://localhost:8080/",
          "height": 204
        }
      },
      "source": [
        "#if the condition is false inserting values form count to num_comments\n",
        "\n",
        "tmp['num_comments'] = 0\n",
        "\n",
        "tmp.loc[tmp.is_post==False, 'num_comments'] = tmp['count']\n",
        "tmp.head()"
      ],
      "execution_count": 6,
      "outputs": [
        {
          "output_type": "execute_result",
          "data": {
            "text/html": [
              "<div>\n",
              "<style scoped>\n",
              "    .dataframe tbody tr th:only-of-type {\n",
              "        vertical-align: middle;\n",
              "    }\n",
              "\n",
              "    .dataframe tbody tr th {\n",
              "        vertical-align: top;\n",
              "    }\n",
              "\n",
              "    .dataframe thead th {\n",
              "        text-align: right;\n",
              "    }\n",
              "</style>\n",
              "<table border=\"1\" class=\"dataframe\">\n",
              "  <thead>\n",
              "    <tr style=\"text-align: right;\">\n",
              "      <th></th>\n",
              "      <th>course_id</th>\n",
              "      <th>thread_id</th>\n",
              "      <th>is_post</th>\n",
              "      <th>count</th>\n",
              "      <th>num_posts</th>\n",
              "      <th>num_comments</th>\n",
              "    </tr>\n",
              "  </thead>\n",
              "  <tbody>\n",
              "    <tr>\n",
              "      <th>0</th>\n",
              "      <td>analysenumerique-001</td>\n",
              "      <td>2</td>\n",
              "      <td>False</td>\n",
              "      <td>2</td>\n",
              "      <td>0</td>\n",
              "      <td>2</td>\n",
              "    </tr>\n",
              "    <tr>\n",
              "      <th>1</th>\n",
              "      <td>analysenumerique-001</td>\n",
              "      <td>2</td>\n",
              "      <td>True</td>\n",
              "      <td>9</td>\n",
              "      <td>9</td>\n",
              "      <td>0</td>\n",
              "    </tr>\n",
              "    <tr>\n",
              "      <th>2</th>\n",
              "      <td>analysenumerique-001</td>\n",
              "      <td>3</td>\n",
              "      <td>False</td>\n",
              "      <td>3</td>\n",
              "      <td>0</td>\n",
              "      <td>3</td>\n",
              "    </tr>\n",
              "    <tr>\n",
              "      <th>3</th>\n",
              "      <td>analysenumerique-001</td>\n",
              "      <td>3</td>\n",
              "      <td>True</td>\n",
              "      <td>16</td>\n",
              "      <td>16</td>\n",
              "      <td>0</td>\n",
              "    </tr>\n",
              "    <tr>\n",
              "      <th>4</th>\n",
              "      <td>analysenumerique-001</td>\n",
              "      <td>4</td>\n",
              "      <td>True</td>\n",
              "      <td>2</td>\n",
              "      <td>2</td>\n",
              "      <td>0</td>\n",
              "    </tr>\n",
              "  </tbody>\n",
              "</table>\n",
              "</div>"
            ],
            "text/plain": [
              "              course_id  thread_id  is_post  count  num_posts  num_comments\n",
              "0  analysenumerique-001          2    False      2          0             2\n",
              "1  analysenumerique-001          2     True      9          9             0\n",
              "2  analysenumerique-001          3    False      3          0             3\n",
              "3  analysenumerique-001          3     True     16         16             0\n",
              "4  analysenumerique-001          4     True      2          2             0"
            ]
          },
          "metadata": {
            "tags": []
          },
          "execution_count": 6
        }
      ]
    },
    {
      "cell_type": "code",
      "metadata": {
        "id": "vRHuRf1Fe6Bl",
        "outputId": "c6ebf7ac-214f-4d6c-bcde-9be04142aacb",
        "colab": {
          "base_uri": "https://localhost:8080/",
          "height": 204
        }
      },
      "source": [
        "#using groupby.max and resetting the index\n",
        "\n",
        "tmp = tmp.groupby(['course_id', 'thread_id']).max().reset_index()\n",
        "\n",
        "tmp.head()"
      ],
      "execution_count": 7,
      "outputs": [
        {
          "output_type": "execute_result",
          "data": {
            "text/html": [
              "<div>\n",
              "<style scoped>\n",
              "    .dataframe tbody tr th:only-of-type {\n",
              "        vertical-align: middle;\n",
              "    }\n",
              "\n",
              "    .dataframe tbody tr th {\n",
              "        vertical-align: top;\n",
              "    }\n",
              "\n",
              "    .dataframe thead th {\n",
              "        text-align: right;\n",
              "    }\n",
              "</style>\n",
              "<table border=\"1\" class=\"dataframe\">\n",
              "  <thead>\n",
              "    <tr style=\"text-align: right;\">\n",
              "      <th></th>\n",
              "      <th>course_id</th>\n",
              "      <th>thread_id</th>\n",
              "      <th>is_post</th>\n",
              "      <th>count</th>\n",
              "      <th>num_posts</th>\n",
              "      <th>num_comments</th>\n",
              "    </tr>\n",
              "  </thead>\n",
              "  <tbody>\n",
              "    <tr>\n",
              "      <th>0</th>\n",
              "      <td>analysenumerique-001</td>\n",
              "      <td>2</td>\n",
              "      <td>True</td>\n",
              "      <td>9</td>\n",
              "      <td>9</td>\n",
              "      <td>2</td>\n",
              "    </tr>\n",
              "    <tr>\n",
              "      <th>1</th>\n",
              "      <td>analysenumerique-001</td>\n",
              "      <td>3</td>\n",
              "      <td>True</td>\n",
              "      <td>16</td>\n",
              "      <td>16</td>\n",
              "      <td>3</td>\n",
              "    </tr>\n",
              "    <tr>\n",
              "      <th>2</th>\n",
              "      <td>analysenumerique-001</td>\n",
              "      <td>4</td>\n",
              "      <td>True</td>\n",
              "      <td>2</td>\n",
              "      <td>2</td>\n",
              "      <td>0</td>\n",
              "    </tr>\n",
              "    <tr>\n",
              "      <th>3</th>\n",
              "      <td>analysenumerique-001</td>\n",
              "      <td>7</td>\n",
              "      <td>True</td>\n",
              "      <td>3</td>\n",
              "      <td>3</td>\n",
              "      <td>0</td>\n",
              "    </tr>\n",
              "    <tr>\n",
              "      <th>4</th>\n",
              "      <td>analysenumerique-001</td>\n",
              "      <td>8</td>\n",
              "      <td>True</td>\n",
              "      <td>8</td>\n",
              "      <td>8</td>\n",
              "      <td>1</td>\n",
              "    </tr>\n",
              "  </tbody>\n",
              "</table>\n",
              "</div>"
            ],
            "text/plain": [
              "              course_id  thread_id  is_post  count  num_posts  num_comments\n",
              "0  analysenumerique-001          2     True      9          9             2\n",
              "1  analysenumerique-001          3     True     16         16             3\n",
              "2  analysenumerique-001          4     True      2          2             0\n",
              "3  analysenumerique-001          7     True      3          3             0\n",
              "4  analysenumerique-001          8     True      8          8             1"
            ]
          },
          "metadata": {
            "tags": []
          },
          "execution_count": 7
        }
      ]
    },
    {
      "cell_type": "code",
      "metadata": {
        "id": "gznPi2sTfiAf",
        "outputId": "6443df25-0455-440a-c696-13e8ddeef599",
        "colab": {
          "base_uri": "https://localhost:8080/",
          "height": 204
        }
      },
      "source": [
        "tmp['num_messages'] = tmp.num_posts + tmp.num_comments\n",
        "tmp.head()"
      ],
      "execution_count": 8,
      "outputs": [
        {
          "output_type": "execute_result",
          "data": {
            "text/html": [
              "<div>\n",
              "<style scoped>\n",
              "    .dataframe tbody tr th:only-of-type {\n",
              "        vertical-align: middle;\n",
              "    }\n",
              "\n",
              "    .dataframe tbody tr th {\n",
              "        vertical-align: top;\n",
              "    }\n",
              "\n",
              "    .dataframe thead th {\n",
              "        text-align: right;\n",
              "    }\n",
              "</style>\n",
              "<table border=\"1\" class=\"dataframe\">\n",
              "  <thead>\n",
              "    <tr style=\"text-align: right;\">\n",
              "      <th></th>\n",
              "      <th>course_id</th>\n",
              "      <th>thread_id</th>\n",
              "      <th>is_post</th>\n",
              "      <th>count</th>\n",
              "      <th>num_posts</th>\n",
              "      <th>num_comments</th>\n",
              "      <th>num_messages</th>\n",
              "    </tr>\n",
              "  </thead>\n",
              "  <tbody>\n",
              "    <tr>\n",
              "      <th>0</th>\n",
              "      <td>analysenumerique-001</td>\n",
              "      <td>2</td>\n",
              "      <td>True</td>\n",
              "      <td>9</td>\n",
              "      <td>9</td>\n",
              "      <td>2</td>\n",
              "      <td>11</td>\n",
              "    </tr>\n",
              "    <tr>\n",
              "      <th>1</th>\n",
              "      <td>analysenumerique-001</td>\n",
              "      <td>3</td>\n",
              "      <td>True</td>\n",
              "      <td>16</td>\n",
              "      <td>16</td>\n",
              "      <td>3</td>\n",
              "      <td>19</td>\n",
              "    </tr>\n",
              "    <tr>\n",
              "      <th>2</th>\n",
              "      <td>analysenumerique-001</td>\n",
              "      <td>4</td>\n",
              "      <td>True</td>\n",
              "      <td>2</td>\n",
              "      <td>2</td>\n",
              "      <td>0</td>\n",
              "      <td>2</td>\n",
              "    </tr>\n",
              "    <tr>\n",
              "      <th>3</th>\n",
              "      <td>analysenumerique-001</td>\n",
              "      <td>7</td>\n",
              "      <td>True</td>\n",
              "      <td>3</td>\n",
              "      <td>3</td>\n",
              "      <td>0</td>\n",
              "      <td>3</td>\n",
              "    </tr>\n",
              "    <tr>\n",
              "      <th>4</th>\n",
              "      <td>analysenumerique-001</td>\n",
              "      <td>8</td>\n",
              "      <td>True</td>\n",
              "      <td>8</td>\n",
              "      <td>8</td>\n",
              "      <td>1</td>\n",
              "      <td>9</td>\n",
              "    </tr>\n",
              "  </tbody>\n",
              "</table>\n",
              "</div>"
            ],
            "text/plain": [
              "              course_id  thread_id  ...  num_comments  num_messages\n",
              "0  analysenumerique-001          2  ...             2            11\n",
              "1  analysenumerique-001          3  ...             3            19\n",
              "2  analysenumerique-001          4  ...             0             2\n",
              "3  analysenumerique-001          7  ...             0             3\n",
              "4  analysenumerique-001          8  ...             1             9\n",
              "\n",
              "[5 rows x 7 columns]"
            ]
          },
          "metadata": {
            "tags": []
          },
          "execution_count": 8
        }
      ]
    },
    {
      "cell_type": "markdown",
      "metadata": {
        "id": "TwpWwdSHhd0P"
      },
      "source": [
        "# AVERAGE RESPONSE TIME"
      ]
    },
    {
      "cell_type": "code",
      "metadata": {
        "id": "n98vkTjRe9-W"
      },
      "source": [
        "#Generating a function to convert unix timestamp to date and time\n",
        "\n",
        "def unix_to_time(o):\n",
        "  return datetime.utcfromtimestamp(o).strftime('%Y-%m-%d %H:%M:%S')"
      ],
      "execution_count": 9,
      "outputs": []
    },
    {
      "cell_type": "code",
      "metadata": {
        "id": "B0IL6HLCfNKU"
      },
      "source": [
        "# adding a new column with post_time but in datetime format for better analysis\n",
        "\n",
        "course_posts['post_time_t'] = course_posts.post_time.map(unix_to_time)"
      ],
      "execution_count": 10,
      "outputs": []
    },
    {
      "cell_type": "code",
      "metadata": {
        "id": "3zRqLpamfbd8",
        "outputId": "1a461e5b-a090-4121-e10d-f9e438b433e2",
        "colab": {
          "base_uri": "https://localhost:8080/",
          "height": 204
        }
      },
      "source": [
        "# saving the time of last post by using groupby.max() function in a new dataset\n",
        "\n",
        "last_post = course_posts.groupby(['course_id','thread_id'])['post_time_t'].max().reset_index()\n",
        "\n",
        "#renaming the columns for better readability\n",
        "last_post.columns = ['course_id', 'thread_id', 'last_post']\n",
        "last_post.head()"
      ],
      "execution_count": 11,
      "outputs": [
        {
          "output_type": "execute_result",
          "data": {
            "text/html": [
              "<div>\n",
              "<style scoped>\n",
              "    .dataframe tbody tr th:only-of-type {\n",
              "        vertical-align: middle;\n",
              "    }\n",
              "\n",
              "    .dataframe tbody tr th {\n",
              "        vertical-align: top;\n",
              "    }\n",
              "\n",
              "    .dataframe thead th {\n",
              "        text-align: right;\n",
              "    }\n",
              "</style>\n",
              "<table border=\"1\" class=\"dataframe\">\n",
              "  <thead>\n",
              "    <tr style=\"text-align: right;\">\n",
              "      <th></th>\n",
              "      <th>course_id</th>\n",
              "      <th>thread_id</th>\n",
              "      <th>last_post</th>\n",
              "    </tr>\n",
              "  </thead>\n",
              "  <tbody>\n",
              "    <tr>\n",
              "      <th>0</th>\n",
              "      <td>analysenumerique-001</td>\n",
              "      <td>2</td>\n",
              "      <td>2013-02-11 23:07:17</td>\n",
              "    </tr>\n",
              "    <tr>\n",
              "      <th>1</th>\n",
              "      <td>analysenumerique-001</td>\n",
              "      <td>3</td>\n",
              "      <td>2013-02-25 13:42:39</td>\n",
              "    </tr>\n",
              "    <tr>\n",
              "      <th>2</th>\n",
              "      <td>analysenumerique-001</td>\n",
              "      <td>4</td>\n",
              "      <td>2013-01-30 14:15:01</td>\n",
              "    </tr>\n",
              "    <tr>\n",
              "      <th>3</th>\n",
              "      <td>analysenumerique-001</td>\n",
              "      <td>7</td>\n",
              "      <td>2013-02-02 21:19:00</td>\n",
              "    </tr>\n",
              "    <tr>\n",
              "      <th>4</th>\n",
              "      <td>analysenumerique-001</td>\n",
              "      <td>8</td>\n",
              "      <td>2013-02-24 17:05:06</td>\n",
              "    </tr>\n",
              "  </tbody>\n",
              "</table>\n",
              "</div>"
            ],
            "text/plain": [
              "              course_id  thread_id            last_post\n",
              "0  analysenumerique-001          2  2013-02-11 23:07:17\n",
              "1  analysenumerique-001          3  2013-02-25 13:42:39\n",
              "2  analysenumerique-001          4  2013-01-30 14:15:01\n",
              "3  analysenumerique-001          7  2013-02-02 21:19:00\n",
              "4  analysenumerique-001          8  2013-02-24 17:05:06"
            ]
          },
          "metadata": {
            "tags": []
          },
          "execution_count": 11
        }
      ]
    },
    {
      "cell_type": "code",
      "metadata": {
        "id": "zDQk6Rutfe8r",
        "outputId": "d833b1c5-ba4c-42ec-a659-ffce9798944a",
        "colab": {
          "base_uri": "https://localhost:8080/",
          "height": 204
        }
      },
      "source": [
        "#performing similar actions from last cell but will use groupby.min() function to find the time of first post\n",
        "\n",
        "first_post = course_posts.groupby(['course_id','thread_id'])['post_time_t'].min().reset_index()\n",
        "first_post.columns = ['course_id', 'thread_id', 'first_post']\n",
        "first_post.head()"
      ],
      "execution_count": 12,
      "outputs": [
        {
          "output_type": "execute_result",
          "data": {
            "text/html": [
              "<div>\n",
              "<style scoped>\n",
              "    .dataframe tbody tr th:only-of-type {\n",
              "        vertical-align: middle;\n",
              "    }\n",
              "\n",
              "    .dataframe tbody tr th {\n",
              "        vertical-align: top;\n",
              "    }\n",
              "\n",
              "    .dataframe thead th {\n",
              "        text-align: right;\n",
              "    }\n",
              "</style>\n",
              "<table border=\"1\" class=\"dataframe\">\n",
              "  <thead>\n",
              "    <tr style=\"text-align: right;\">\n",
              "      <th></th>\n",
              "      <th>course_id</th>\n",
              "      <th>thread_id</th>\n",
              "      <th>first_post</th>\n",
              "    </tr>\n",
              "  </thead>\n",
              "  <tbody>\n",
              "    <tr>\n",
              "      <th>0</th>\n",
              "      <td>analysenumerique-001</td>\n",
              "      <td>2</td>\n",
              "      <td>2013-01-23 12:00:48</td>\n",
              "    </tr>\n",
              "    <tr>\n",
              "      <th>1</th>\n",
              "      <td>analysenumerique-001</td>\n",
              "      <td>3</td>\n",
              "      <td>2013-01-25 15:18:35</td>\n",
              "    </tr>\n",
              "    <tr>\n",
              "      <th>2</th>\n",
              "      <td>analysenumerique-001</td>\n",
              "      <td>4</td>\n",
              "      <td>2013-01-26 01:19:24</td>\n",
              "    </tr>\n",
              "    <tr>\n",
              "      <th>3</th>\n",
              "      <td>analysenumerique-001</td>\n",
              "      <td>7</td>\n",
              "      <td>2013-01-29 14:31:13</td>\n",
              "    </tr>\n",
              "    <tr>\n",
              "      <th>4</th>\n",
              "      <td>analysenumerique-001</td>\n",
              "      <td>8</td>\n",
              "      <td>2013-01-30 01:42:51</td>\n",
              "    </tr>\n",
              "  </tbody>\n",
              "</table>\n",
              "</div>"
            ],
            "text/plain": [
              "              course_id  thread_id           first_post\n",
              "0  analysenumerique-001          2  2013-01-23 12:00:48\n",
              "1  analysenumerique-001          3  2013-01-25 15:18:35\n",
              "2  analysenumerique-001          4  2013-01-26 01:19:24\n",
              "3  analysenumerique-001          7  2013-01-29 14:31:13\n",
              "4  analysenumerique-001          8  2013-01-30 01:42:51"
            ]
          },
          "metadata": {
            "tags": []
          },
          "execution_count": 12
        }
      ]
    },
    {
      "cell_type": "code",
      "metadata": {
        "id": "VpAGypnwgaqV",
        "outputId": "0471cbf9-bf41-494d-8a8c-744d2c44e6e2",
        "colab": {
          "base_uri": "https://localhost:8080/",
          "height": 204
        }
      },
      "source": [
        "#merging our data \n",
        "avg_resp_time = first_post.merge(last_post).merge(tmp)\n",
        "avg_resp_time.head()"
      ],
      "execution_count": 13,
      "outputs": [
        {
          "output_type": "execute_result",
          "data": {
            "text/html": [
              "<div>\n",
              "<style scoped>\n",
              "    .dataframe tbody tr th:only-of-type {\n",
              "        vertical-align: middle;\n",
              "    }\n",
              "\n",
              "    .dataframe tbody tr th {\n",
              "        vertical-align: top;\n",
              "    }\n",
              "\n",
              "    .dataframe thead th {\n",
              "        text-align: right;\n",
              "    }\n",
              "</style>\n",
              "<table border=\"1\" class=\"dataframe\">\n",
              "  <thead>\n",
              "    <tr style=\"text-align: right;\">\n",
              "      <th></th>\n",
              "      <th>course_id</th>\n",
              "      <th>thread_id</th>\n",
              "      <th>first_post</th>\n",
              "      <th>last_post</th>\n",
              "      <th>is_post</th>\n",
              "      <th>count</th>\n",
              "      <th>num_posts</th>\n",
              "      <th>num_comments</th>\n",
              "      <th>num_messages</th>\n",
              "    </tr>\n",
              "  </thead>\n",
              "  <tbody>\n",
              "    <tr>\n",
              "      <th>0</th>\n",
              "      <td>analysenumerique-001</td>\n",
              "      <td>2</td>\n",
              "      <td>2013-01-23 12:00:48</td>\n",
              "      <td>2013-02-11 23:07:17</td>\n",
              "      <td>True</td>\n",
              "      <td>9</td>\n",
              "      <td>9</td>\n",
              "      <td>2</td>\n",
              "      <td>11</td>\n",
              "    </tr>\n",
              "    <tr>\n",
              "      <th>1</th>\n",
              "      <td>analysenumerique-001</td>\n",
              "      <td>3</td>\n",
              "      <td>2013-01-25 15:18:35</td>\n",
              "      <td>2013-02-25 13:42:39</td>\n",
              "      <td>True</td>\n",
              "      <td>16</td>\n",
              "      <td>16</td>\n",
              "      <td>3</td>\n",
              "      <td>19</td>\n",
              "    </tr>\n",
              "    <tr>\n",
              "      <th>2</th>\n",
              "      <td>analysenumerique-001</td>\n",
              "      <td>4</td>\n",
              "      <td>2013-01-26 01:19:24</td>\n",
              "      <td>2013-01-30 14:15:01</td>\n",
              "      <td>True</td>\n",
              "      <td>2</td>\n",
              "      <td>2</td>\n",
              "      <td>0</td>\n",
              "      <td>2</td>\n",
              "    </tr>\n",
              "    <tr>\n",
              "      <th>3</th>\n",
              "      <td>analysenumerique-001</td>\n",
              "      <td>7</td>\n",
              "      <td>2013-01-29 14:31:13</td>\n",
              "      <td>2013-02-02 21:19:00</td>\n",
              "      <td>True</td>\n",
              "      <td>3</td>\n",
              "      <td>3</td>\n",
              "      <td>0</td>\n",
              "      <td>3</td>\n",
              "    </tr>\n",
              "    <tr>\n",
              "      <th>4</th>\n",
              "      <td>analysenumerique-001</td>\n",
              "      <td>8</td>\n",
              "      <td>2013-01-30 01:42:51</td>\n",
              "      <td>2013-02-24 17:05:06</td>\n",
              "      <td>True</td>\n",
              "      <td>8</td>\n",
              "      <td>8</td>\n",
              "      <td>1</td>\n",
              "      <td>9</td>\n",
              "    </tr>\n",
              "  </tbody>\n",
              "</table>\n",
              "</div>"
            ],
            "text/plain": [
              "              course_id  thread_id  ... num_comments num_messages\n",
              "0  analysenumerique-001          2  ...            2           11\n",
              "1  analysenumerique-001          3  ...            3           19\n",
              "2  analysenumerique-001          4  ...            0            2\n",
              "3  analysenumerique-001          7  ...            0            3\n",
              "4  analysenumerique-001          8  ...            1            9\n",
              "\n",
              "[5 rows x 9 columns]"
            ]
          },
          "metadata": {
            "tags": []
          },
          "execution_count": 13
        }
      ]
    },
    {
      "cell_type": "code",
      "metadata": {
        "id": "Vs2TFgJggixd"
      },
      "source": [
        "# converting the datetime using pandas\n",
        "\n",
        "avg_resp_time['last_post'] = pd.to_datetime(avg_resp_time.last_post)\n",
        "avg_resp_time['first_post'] = pd.to_datetime(avg_resp_time.first_post)\n"
      ],
      "execution_count": 14,
      "outputs": []
    },
    {
      "cell_type": "code",
      "metadata": {
        "id": "sWJTBBfTgobs",
        "outputId": "385da5e6-21ab-4176-f401-66b385435da1",
        "colab": {
          "base_uri": "https://localhost:8080/",
          "height": 309
        }
      },
      "source": [
        "#getting the avergae response time as per the formula provided in the research paper\n",
        "\n",
        "avg_resp_time['avg_resp_time'] = (avg_resp_time.last_post-avg_resp_time.first_post)/avg_resp_time.num_messages\n",
        "avg_resp_time.head()"
      ],
      "execution_count": 15,
      "outputs": [
        {
          "output_type": "execute_result",
          "data": {
            "text/html": [
              "<div>\n",
              "<style scoped>\n",
              "    .dataframe tbody tr th:only-of-type {\n",
              "        vertical-align: middle;\n",
              "    }\n",
              "\n",
              "    .dataframe tbody tr th {\n",
              "        vertical-align: top;\n",
              "    }\n",
              "\n",
              "    .dataframe thead th {\n",
              "        text-align: right;\n",
              "    }\n",
              "</style>\n",
              "<table border=\"1\" class=\"dataframe\">\n",
              "  <thead>\n",
              "    <tr style=\"text-align: right;\">\n",
              "      <th></th>\n",
              "      <th>course_id</th>\n",
              "      <th>thread_id</th>\n",
              "      <th>first_post</th>\n",
              "      <th>last_post</th>\n",
              "      <th>is_post</th>\n",
              "      <th>count</th>\n",
              "      <th>num_posts</th>\n",
              "      <th>num_comments</th>\n",
              "      <th>num_messages</th>\n",
              "      <th>avg_resp_time</th>\n",
              "    </tr>\n",
              "  </thead>\n",
              "  <tbody>\n",
              "    <tr>\n",
              "      <th>0</th>\n",
              "      <td>analysenumerique-001</td>\n",
              "      <td>2</td>\n",
              "      <td>2013-01-23 12:00:48</td>\n",
              "      <td>2013-02-11 23:07:17</td>\n",
              "      <td>True</td>\n",
              "      <td>9</td>\n",
              "      <td>9</td>\n",
              "      <td>2</td>\n",
              "      <td>11</td>\n",
              "      <td>1 days 18:27:51.727272727</td>\n",
              "    </tr>\n",
              "    <tr>\n",
              "      <th>1</th>\n",
              "      <td>analysenumerique-001</td>\n",
              "      <td>3</td>\n",
              "      <td>2013-01-25 15:18:35</td>\n",
              "      <td>2013-02-25 13:42:39</td>\n",
              "      <td>True</td>\n",
              "      <td>16</td>\n",
              "      <td>16</td>\n",
              "      <td>3</td>\n",
              "      <td>19</td>\n",
              "      <td>1 days 15:04:25.473684210</td>\n",
              "    </tr>\n",
              "    <tr>\n",
              "      <th>2</th>\n",
              "      <td>analysenumerique-001</td>\n",
              "      <td>4</td>\n",
              "      <td>2013-01-26 01:19:24</td>\n",
              "      <td>2013-01-30 14:15:01</td>\n",
              "      <td>True</td>\n",
              "      <td>2</td>\n",
              "      <td>2</td>\n",
              "      <td>0</td>\n",
              "      <td>2</td>\n",
              "      <td>2 days 06:27:48.500000</td>\n",
              "    </tr>\n",
              "    <tr>\n",
              "      <th>3</th>\n",
              "      <td>analysenumerique-001</td>\n",
              "      <td>7</td>\n",
              "      <td>2013-01-29 14:31:13</td>\n",
              "      <td>2013-02-02 21:19:00</td>\n",
              "      <td>True</td>\n",
              "      <td>3</td>\n",
              "      <td>3</td>\n",
              "      <td>0</td>\n",
              "      <td>3</td>\n",
              "      <td>1 days 10:15:55.666666666</td>\n",
              "    </tr>\n",
              "    <tr>\n",
              "      <th>4</th>\n",
              "      <td>analysenumerique-001</td>\n",
              "      <td>8</td>\n",
              "      <td>2013-01-30 01:42:51</td>\n",
              "      <td>2013-02-24 17:05:06</td>\n",
              "      <td>True</td>\n",
              "      <td>8</td>\n",
              "      <td>8</td>\n",
              "      <td>1</td>\n",
              "      <td>9</td>\n",
              "      <td>2 days 20:22:28.333333333</td>\n",
              "    </tr>\n",
              "  </tbody>\n",
              "</table>\n",
              "</div>"
            ],
            "text/plain": [
              "              course_id  thread_id  ... num_messages             avg_resp_time\n",
              "0  analysenumerique-001          2  ...           11 1 days 18:27:51.727272727\n",
              "1  analysenumerique-001          3  ...           19 1 days 15:04:25.473684210\n",
              "2  analysenumerique-001          4  ...            2    2 days 06:27:48.500000\n",
              "3  analysenumerique-001          7  ...            3 1 days 10:15:55.666666666\n",
              "4  analysenumerique-001          8  ...            9 2 days 20:22:28.333333333\n",
              "\n",
              "[5 rows x 10 columns]"
            ]
          },
          "metadata": {
            "tags": []
          },
          "execution_count": 15
        }
      ]
    },
    {
      "cell_type": "markdown",
      "metadata": {
        "id": "mCH1VL_ohU6m"
      },
      "source": [
        "# MESSAGE RATE"
      ]
    },
    {
      "cell_type": "code",
      "metadata": {
        "id": "QIwiEMItg8Xm"
      },
      "source": [
        "#generating a function to get the 60% of it's final messages\n",
        "def perc_60(o):\n",
        "  return np.percentile(o, 60)"
      ],
      "execution_count": 16,
      "outputs": []
    },
    {
      "cell_type": "code",
      "metadata": {
        "id": "M53g-QMzhoqS"
      },
      "source": [
        "#using groupby funtion. to get course_if, thread_id with post_time then converting it into an array so that we can map our function from above cell to it\n",
        "\n",
        "avg_resp_time['msg_rate'] = course_posts.groupby(['course_id', 'thread_id'])['post_time'].apply(np.array).reset_index()['post_time'].map(perc_60)"
      ],
      "execution_count": 17,
      "outputs": []
    },
    {
      "cell_type": "code",
      "metadata": {
        "id": "AY4UQ0QDhqy-",
        "outputId": "d76f8de9-697b-44e0-a902-c0253eefb04f",
        "colab": {
          "base_uri": "https://localhost:8080/",
          "height": 394
        }
      },
      "source": [
        "#changing the datetime format again\n",
        "avg_resp_time['msg_rate'] = avg_resp_time.msg_rate.map(unix_to_time)\n",
        "avg_resp_time.head()"
      ],
      "execution_count": 18,
      "outputs": [
        {
          "output_type": "execute_result",
          "data": {
            "text/html": [
              "<div>\n",
              "<style scoped>\n",
              "    .dataframe tbody tr th:only-of-type {\n",
              "        vertical-align: middle;\n",
              "    }\n",
              "\n",
              "    .dataframe tbody tr th {\n",
              "        vertical-align: top;\n",
              "    }\n",
              "\n",
              "    .dataframe thead th {\n",
              "        text-align: right;\n",
              "    }\n",
              "</style>\n",
              "<table border=\"1\" class=\"dataframe\">\n",
              "  <thead>\n",
              "    <tr style=\"text-align: right;\">\n",
              "      <th></th>\n",
              "      <th>course_id</th>\n",
              "      <th>thread_id</th>\n",
              "      <th>first_post</th>\n",
              "      <th>last_post</th>\n",
              "      <th>is_post</th>\n",
              "      <th>count</th>\n",
              "      <th>num_posts</th>\n",
              "      <th>num_comments</th>\n",
              "      <th>num_messages</th>\n",
              "      <th>avg_resp_time</th>\n",
              "      <th>msg_rate</th>\n",
              "    </tr>\n",
              "  </thead>\n",
              "  <tbody>\n",
              "    <tr>\n",
              "      <th>0</th>\n",
              "      <td>analysenumerique-001</td>\n",
              "      <td>2</td>\n",
              "      <td>2013-01-23 12:00:48</td>\n",
              "      <td>2013-02-11 23:07:17</td>\n",
              "      <td>True</td>\n",
              "      <td>9</td>\n",
              "      <td>9</td>\n",
              "      <td>2</td>\n",
              "      <td>11</td>\n",
              "      <td>1 days 18:27:51.727272727</td>\n",
              "      <td>2013-01-27 04:11:48</td>\n",
              "    </tr>\n",
              "    <tr>\n",
              "      <th>1</th>\n",
              "      <td>analysenumerique-001</td>\n",
              "      <td>3</td>\n",
              "      <td>2013-01-25 15:18:35</td>\n",
              "      <td>2013-02-25 13:42:39</td>\n",
              "      <td>True</td>\n",
              "      <td>16</td>\n",
              "      <td>16</td>\n",
              "      <td>3</td>\n",
              "      <td>19</td>\n",
              "      <td>1 days 15:04:25.473684210</td>\n",
              "      <td>2013-02-04 12:11:34</td>\n",
              "    </tr>\n",
              "    <tr>\n",
              "      <th>2</th>\n",
              "      <td>analysenumerique-001</td>\n",
              "      <td>4</td>\n",
              "      <td>2013-01-26 01:19:24</td>\n",
              "      <td>2013-01-30 14:15:01</td>\n",
              "      <td>True</td>\n",
              "      <td>2</td>\n",
              "      <td>2</td>\n",
              "      <td>0</td>\n",
              "      <td>2</td>\n",
              "      <td>2 days 06:27:48.500000</td>\n",
              "      <td>2013-01-28 18:40:46</td>\n",
              "    </tr>\n",
              "    <tr>\n",
              "      <th>3</th>\n",
              "      <td>analysenumerique-001</td>\n",
              "      <td>7</td>\n",
              "      <td>2013-01-29 14:31:13</td>\n",
              "      <td>2013-02-02 21:19:00</td>\n",
              "      <td>True</td>\n",
              "      <td>3</td>\n",
              "      <td>3</td>\n",
              "      <td>0</td>\n",
              "      <td>3</td>\n",
              "      <td>1 days 10:15:55.666666666</td>\n",
              "      <td>2013-02-02 00:22:30</td>\n",
              "    </tr>\n",
              "    <tr>\n",
              "      <th>4</th>\n",
              "      <td>analysenumerique-001</td>\n",
              "      <td>8</td>\n",
              "      <td>2013-01-30 01:42:51</td>\n",
              "      <td>2013-02-24 17:05:06</td>\n",
              "      <td>True</td>\n",
              "      <td>8</td>\n",
              "      <td>8</td>\n",
              "      <td>1</td>\n",
              "      <td>9</td>\n",
              "      <td>2 days 20:22:28.333333333</td>\n",
              "      <td>2013-02-05 10:45:39</td>\n",
              "    </tr>\n",
              "  </tbody>\n",
              "</table>\n",
              "</div>"
            ],
            "text/plain": [
              "              course_id  ...             msg_rate\n",
              "0  analysenumerique-001  ...  2013-01-27 04:11:48\n",
              "1  analysenumerique-001  ...  2013-02-04 12:11:34\n",
              "2  analysenumerique-001  ...  2013-01-28 18:40:46\n",
              "3  analysenumerique-001  ...  2013-02-02 00:22:30\n",
              "4  analysenumerique-001  ...  2013-02-05 10:45:39\n",
              "\n",
              "[5 rows x 11 columns]"
            ]
          },
          "metadata": {
            "tags": []
          },
          "execution_count": 18
        }
      ]
    },
    {
      "cell_type": "markdown",
      "metadata": {
        "id": "NkD8jioYiU7j"
      },
      "source": [
        "# DAY OF THE WEEK( for the first post) integer[0,6]"
      ]
    },
    {
      "cell_type": "code",
      "metadata": {
        "id": "Vkar_ZC4is0C"
      },
      "source": [
        "# Using .weekday() function to get the day of the week \n",
        "avg_resp_time['day_of_week'] = avg_resp_time.first_post.dt.weekday"
      ],
      "execution_count": 19,
      "outputs": []
    },
    {
      "cell_type": "code",
      "metadata": {
        "id": "3l9mohY_lQQH",
        "outputId": "3e0398bf-b5f2-4ff7-c9fa-d162c0303a7b",
        "colab": {
          "base_uri": "https://localhost:8080/",
          "height": 199
        }
      },
      "source": [
        "avg_resp_time.head(2)"
      ],
      "execution_count": 20,
      "outputs": [
        {
          "output_type": "execute_result",
          "data": {
            "text/html": [
              "<div>\n",
              "<style scoped>\n",
              "    .dataframe tbody tr th:only-of-type {\n",
              "        vertical-align: middle;\n",
              "    }\n",
              "\n",
              "    .dataframe tbody tr th {\n",
              "        vertical-align: top;\n",
              "    }\n",
              "\n",
              "    .dataframe thead th {\n",
              "        text-align: right;\n",
              "    }\n",
              "</style>\n",
              "<table border=\"1\" class=\"dataframe\">\n",
              "  <thead>\n",
              "    <tr style=\"text-align: right;\">\n",
              "      <th></th>\n",
              "      <th>course_id</th>\n",
              "      <th>thread_id</th>\n",
              "      <th>first_post</th>\n",
              "      <th>last_post</th>\n",
              "      <th>is_post</th>\n",
              "      <th>count</th>\n",
              "      <th>num_posts</th>\n",
              "      <th>num_comments</th>\n",
              "      <th>num_messages</th>\n",
              "      <th>avg_resp_time</th>\n",
              "      <th>msg_rate</th>\n",
              "      <th>day_of_week</th>\n",
              "    </tr>\n",
              "  </thead>\n",
              "  <tbody>\n",
              "    <tr>\n",
              "      <th>0</th>\n",
              "      <td>analysenumerique-001</td>\n",
              "      <td>2</td>\n",
              "      <td>2013-01-23 12:00:48</td>\n",
              "      <td>2013-02-11 23:07:17</td>\n",
              "      <td>True</td>\n",
              "      <td>9</td>\n",
              "      <td>9</td>\n",
              "      <td>2</td>\n",
              "      <td>11</td>\n",
              "      <td>1 days 18:27:51.727272727</td>\n",
              "      <td>2013-01-27 04:11:48</td>\n",
              "      <td>2</td>\n",
              "    </tr>\n",
              "    <tr>\n",
              "      <th>1</th>\n",
              "      <td>analysenumerique-001</td>\n",
              "      <td>3</td>\n",
              "      <td>2013-01-25 15:18:35</td>\n",
              "      <td>2013-02-25 13:42:39</td>\n",
              "      <td>True</td>\n",
              "      <td>16</td>\n",
              "      <td>16</td>\n",
              "      <td>3</td>\n",
              "      <td>19</td>\n",
              "      <td>1 days 15:04:25.473684210</td>\n",
              "      <td>2013-02-04 12:11:34</td>\n",
              "      <td>4</td>\n",
              "    </tr>\n",
              "  </tbody>\n",
              "</table>\n",
              "</div>"
            ],
            "text/plain": [
              "              course_id  thread_id  ...             msg_rate day_of_week\n",
              "0  analysenumerique-001          2  ...  2013-01-27 04:11:48           2\n",
              "1  analysenumerique-001          3  ...  2013-02-04 12:11:34           4\n",
              "\n",
              "[2 rows x 12 columns]"
            ]
          },
          "metadata": {
            "tags": []
          },
          "execution_count": 20
        }
      ]
    },
    {
      "cell_type": "markdown",
      "metadata": {
        "id": "xd_U9wqumc8x"
      },
      "source": [
        "# RELATIVE TIME"
      ]
    },
    {
      "cell_type": "markdown",
      "metadata": {
        "id": "_69ksmyXmvh3"
      },
      "source": [
        "Relative time is already provided in the course_posts data as shown below"
      ]
    },
    {
      "cell_type": "code",
      "metadata": {
        "id": "tUcx7xQBlfGZ",
        "outputId": "bcbbce08-fd6c-47d6-988e-a9d286a45bb2",
        "colab": {
          "base_uri": "https://localhost:8080/",
          "height": 204
        }
      },
      "source": [
        "pd.DataFrame(course_posts.relative_t.head(5))"
      ],
      "execution_count": 21,
      "outputs": [
        {
          "output_type": "execute_result",
          "data": {
            "text/html": [
              "<div>\n",
              "<style scoped>\n",
              "    .dataframe tbody tr th:only-of-type {\n",
              "        vertical-align: middle;\n",
              "    }\n",
              "\n",
              "    .dataframe tbody tr th {\n",
              "        vertical-align: top;\n",
              "    }\n",
              "\n",
              "    .dataframe thead th {\n",
              "        text-align: right;\n",
              "    }\n",
              "</style>\n",
              "<table border=\"1\" class=\"dataframe\">\n",
              "  <thead>\n",
              "    <tr style=\"text-align: right;\">\n",
              "      <th></th>\n",
              "      <th>relative_t</th>\n",
              "    </tr>\n",
              "  </thead>\n",
              "  <tbody>\n",
              "    <tr>\n",
              "      <th>0</th>\n",
              "      <td>-0.404753</td>\n",
              "    </tr>\n",
              "    <tr>\n",
              "      <th>1</th>\n",
              "      <td>-0.373994</td>\n",
              "    </tr>\n",
              "    <tr>\n",
              "      <th>2</th>\n",
              "      <td>-0.370338</td>\n",
              "    </tr>\n",
              "    <tr>\n",
              "      <th>3</th>\n",
              "      <td>-0.370267</td>\n",
              "    </tr>\n",
              "    <tr>\n",
              "      <th>4</th>\n",
              "      <td>-0.354851</td>\n",
              "    </tr>\n",
              "  </tbody>\n",
              "</table>\n",
              "</div>"
            ],
            "text/plain": [
              "   relative_t\n",
              "0   -0.404753\n",
              "1   -0.373994\n",
              "2   -0.370338\n",
              "3   -0.370267\n",
              "4   -0.354851"
            ]
          },
          "metadata": {
            "tags": []
          },
          "execution_count": 21
        }
      ]
    }
  ]
}