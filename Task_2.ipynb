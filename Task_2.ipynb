{
  "nbformat": 4,
  "nbformat_minor": 0,
  "metadata": {
    "kernelspec": {
      "display_name": "Python 3",
      "language": "python",
      "name": "python3"
    },
    "language_info": {
      "codemirror_mode": {
        "name": "ipython",
        "version": 3
      },
      "file_extension": ".py",
      "mimetype": "text/x-python",
      "name": "python",
      "nbconvert_exporter": "python",
      "pygments_lexer": "ipython3",
      "version": "3.8.3"
    },
    "colab": {
      "name": "Task 2.ipynb",
      "provenance": [],
      "collapsed_sections": []
    }
  },
  "cells": [
    {
      "cell_type": "code",
      "metadata": {
        "id": "t4c1zYfpuhH6"
      },
      "source": [
        "#Importing Libraries\n",
        "\n",
        "import pandas as pd\n",
        "import matplotlib.pyplot as plt\n",
        "import seaborn as sns\n",
        "sns.set()"
      ],
      "execution_count": null,
      "outputs": []
    },
    {
      "cell_type": "code",
      "metadata": {
        "id": "qTHZFJ7-uhH-",
        "outputId": "0959144a-514d-4bda-abc8-0d244cde3afd",
        "colab": {
          "base_uri": "https://localhost:8080/",
          "height": 34
        }
      },
      "source": [
        "#Loading the dataset\n",
        "df = pd.read_csv(\"/content/data.csv\")\n",
        "\n",
        "df.shape"
      ],
      "execution_count": null,
      "outputs": [
        {
          "output_type": "execute_result",
          "data": {
            "text/plain": [
              "(60000, 6)"
            ]
          },
          "metadata": {
            "tags": []
          },
          "execution_count": 10
        }
      ]
    },
    {
      "cell_type": "code",
      "metadata": {
        "id": "d8ynWjdwuhIC",
        "outputId": "101406e4-0b39-4170-d09c-2cfdd190e59a"
      },
      "source": [
        "# checking the first 5 rows of the data \n",
        "df.head()"
      ],
      "execution_count": null,
      "outputs": [
        {
          "output_type": "execute_result",
          "data": {
            "text/html": [
              "<div>\n",
              "<style scoped>\n",
              "    .dataframe tbody tr th:only-of-type {\n",
              "        vertical-align: middle;\n",
              "    }\n",
              "\n",
              "    .dataframe tbody tr th {\n",
              "        vertical-align: top;\n",
              "    }\n",
              "\n",
              "    .dataframe thead th {\n",
              "        text-align: right;\n",
              "    }\n",
              "</style>\n",
              "<table border=\"1\" class=\"dataframe\">\n",
              "  <thead>\n",
              "    <tr style=\"text-align: right;\">\n",
              "      <th></th>\n",
              "      <th>Id</th>\n",
              "      <th>Title</th>\n",
              "      <th>Body</th>\n",
              "      <th>Tags</th>\n",
              "      <th>CreationDate</th>\n",
              "      <th>Y</th>\n",
              "    </tr>\n",
              "  </thead>\n",
              "  <tbody>\n",
              "    <tr>\n",
              "      <th>0</th>\n",
              "      <td>34552656</td>\n",
              "      <td>Java: Repeat Task Every Random Seconds</td>\n",
              "      <td>&lt;p&gt;I'm already familiar with repeating tasks e...</td>\n",
              "      <td>&lt;java&gt;&lt;repeat&gt;</td>\n",
              "      <td>2016-01-01 00:21:59</td>\n",
              "      <td>LQ_CLOSE</td>\n",
              "    </tr>\n",
              "    <tr>\n",
              "      <th>1</th>\n",
              "      <td>34552974</td>\n",
              "      <td>How to get all the child records from differen...</td>\n",
              "      <td>I am having 4 different tables like \\r\\nselect...</td>\n",
              "      <td>&lt;sql&gt;&lt;sql-server&gt;</td>\n",
              "      <td>2016-01-01 01:44:52</td>\n",
              "      <td>LQ_EDIT</td>\n",
              "    </tr>\n",
              "    <tr>\n",
              "      <th>2</th>\n",
              "      <td>34553034</td>\n",
              "      <td>Why are Java Optionals immutable?</td>\n",
              "      <td>&lt;p&gt;I'd like to understand why Java 8 Optionals...</td>\n",
              "      <td>&lt;java&gt;&lt;optional&gt;</td>\n",
              "      <td>2016-01-01 02:03:20</td>\n",
              "      <td>HQ</td>\n",
              "    </tr>\n",
              "    <tr>\n",
              "      <th>3</th>\n",
              "      <td>34553174</td>\n",
              "      <td>Text Overlay Image with Darkened Opacity React...</td>\n",
              "      <td>&lt;p&gt;I am attempting to overlay a title over an ...</td>\n",
              "      <td>&lt;javascript&gt;&lt;image&gt;&lt;overlay&gt;&lt;react-native&gt;&lt;opa...</td>\n",
              "      <td>2016-01-01 02:48:24</td>\n",
              "      <td>HQ</td>\n",
              "    </tr>\n",
              "    <tr>\n",
              "      <th>4</th>\n",
              "      <td>34553318</td>\n",
              "      <td>Why ternary operator in swift is so picky?</td>\n",
              "      <td>&lt;p&gt;The question is very simple, but I just cou...</td>\n",
              "      <td>&lt;swift&gt;&lt;operators&gt;&lt;whitespace&gt;&lt;ternary-operato...</td>\n",
              "      <td>2016-01-01 03:30:17</td>\n",
              "      <td>HQ</td>\n",
              "    </tr>\n",
              "  </tbody>\n",
              "</table>\n",
              "</div>"
            ],
            "text/plain": [
              "         Id                                              Title  \\\n",
              "0  34552656             Java: Repeat Task Every Random Seconds   \n",
              "1  34552974  How to get all the child records from differen...   \n",
              "2  34553034                  Why are Java Optionals immutable?   \n",
              "3  34553174  Text Overlay Image with Darkened Opacity React...   \n",
              "4  34553318         Why ternary operator in swift is so picky?   \n",
              "\n",
              "                                                Body  \\\n",
              "0  <p>I'm already familiar with repeating tasks e...   \n",
              "1  I am having 4 different tables like \\r\\nselect...   \n",
              "2  <p>I'd like to understand why Java 8 Optionals...   \n",
              "3  <p>I am attempting to overlay a title over an ...   \n",
              "4  <p>The question is very simple, but I just cou...   \n",
              "\n",
              "                                                Tags         CreationDate  \\\n",
              "0                                     <java><repeat>  2016-01-01 00:21:59   \n",
              "1                                  <sql><sql-server>  2016-01-01 01:44:52   \n",
              "2                                   <java><optional>  2016-01-01 02:03:20   \n",
              "3  <javascript><image><overlay><react-native><opa...  2016-01-01 02:48:24   \n",
              "4  <swift><operators><whitespace><ternary-operato...  2016-01-01 03:30:17   \n",
              "\n",
              "          Y  \n",
              "0  LQ_CLOSE  \n",
              "1   LQ_EDIT  \n",
              "2        HQ  \n",
              "3        HQ  \n",
              "4        HQ  "
            ]
          },
          "metadata": {
            "tags": []
          },
          "execution_count": 3
        }
      ]
    },
    {
      "cell_type": "code",
      "metadata": {
        "id": "9fsJi1K0uhIF",
        "outputId": "cfb80e86-4b08-423e-e592-f95fb45bbb3e",
        "colab": {
          "base_uri": "https://localhost:8080/",
          "height": 136
        }
      },
      "source": [
        "#checking the datatypes of the variables\n",
        "df.dtypes"
      ],
      "execution_count": null,
      "outputs": [
        {
          "output_type": "execute_result",
          "data": {
            "text/plain": [
              "Id               int64\n",
              "Title           object\n",
              "Body            object\n",
              "Tags            object\n",
              "CreationDate    object\n",
              "Y               object\n",
              "dtype: object"
            ]
          },
          "metadata": {
            "tags": []
          },
          "execution_count": 11
        }
      ]
    },
    {
      "cell_type": "code",
      "metadata": {
        "scrolled": true,
        "id": "BLqNGi9wuhIJ",
        "outputId": "b3a97f8d-1473-4588-c53d-1fd85c3557d4",
        "colab": {
          "base_uri": "https://localhost:8080/",
          "height": 85
        }
      },
      "source": [
        "#checking the number of counts for each category in variable \"Y\"\n",
        "df.Y.value_counts()"
      ],
      "execution_count": null,
      "outputs": [
        {
          "output_type": "execute_result",
          "data": {
            "text/plain": [
              "LQ_CLOSE    20000\n",
              "LQ_EDIT     20000\n",
              "HQ          20000\n",
              "Name: Y, dtype: int64"
            ]
          },
          "metadata": {
            "tags": []
          },
          "execution_count": 12
        }
      ]
    },
    {
      "cell_type": "markdown",
      "metadata": {
        "id": "4MekCUJ-uhIQ"
      },
      "source": [
        "- We can see that there are three categories and each one has 20,000 values\n",
        "- Using matplotlib to generate a bar chart"
      ]
    },
    {
      "cell_type": "code",
      "metadata": {
        "id": "-4RbiRgYuhIR",
        "outputId": "6bb52b0f-64cb-4e2c-dc06-bef39d791090",
        "colab": {
          "base_uri": "https://localhost:8080/",
          "height": 136
        }
      },
      "source": [
        "#checking for the missing values\n",
        "df.isnull().sum()"
      ],
      "execution_count": null,
      "outputs": [
        {
          "output_type": "execute_result",
          "data": {
            "text/plain": [
              "Id              0\n",
              "Title           0\n",
              "Body            0\n",
              "Tags            0\n",
              "CreationDate    0\n",
              "Y               0\n",
              "dtype: int64"
            ]
          },
          "metadata": {
            "tags": []
          },
          "execution_count": 14
        }
      ]
    },
    {
      "cell_type": "code",
      "metadata": {
        "id": "7J-k5kFUuhIV",
        "outputId": "4ca8386c-63cf-4653-da64-e334b4832dd9",
        "colab": {
          "base_uri": "https://localhost:8080/",
          "height": 286
        }
      },
      "source": [
        "#using seabornt to generate a bar plot which shows the distribution of the variable \"Y\" which is the quality rating column\n",
        "sns.countplot(data = df, x = 'Y');"
      ],
      "execution_count": null,
      "outputs": [
        {
          "output_type": "display_data",
          "data": {
            "image/png": "[encoded data removed]",
            "text/plain": [
              "<Figure size 432x288 with 1 Axes>"
            ]
          },
          "metadata": {
            "tags": []
          }
        }
      ]
    },
    {
      "cell_type": "markdown",
      "metadata": {
        "id": "e2R0jGlL-1a2"
      },
      "source": [
        "The plot shows that the distribution each category of the quality rating column has the same number of observations."
      ]
    }
  ]
}